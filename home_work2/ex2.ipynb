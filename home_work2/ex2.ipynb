{
 "cells": [
  {
   "cell_type": "markdown",
   "metadata": {},
   "source": [
    "# ДЗ"
   ]
  },
  {
   "cell_type": "code",
   "execution_count": 1,
   "metadata": {},
   "outputs": [],
   "source": [
    "import numpy as np\n",
    "from math import factorial\n",
    "import matplotlib.pyplot as plt\n",
    "import matplotlib\n",
    "%matplotlib inline"
   ]
  },
  {
   "cell_type": "code",
   "execution_count": 2,
   "metadata": {},
   "outputs": [],
   "source": [
    "def combinations(n, k):\n",
    "    return int(factorial(n) / (factorial(k) * factorial(n - k)))"
   ]
  },
  {
   "cell_type": "markdown",
   "metadata": {},
   "source": [
    "#### 1. Вероятность того, что стрелок попадет в мишень, выстрелив один раз, равна 0.8. Стрелок выстрелил 100 раз. Найдите вероятность того, что стрелок попадет в цель ровно 85 раз."
   ]
  },
  {
   "cell_type": "code",
   "execution_count": 3,
   "metadata": {},
   "outputs": [
    {
     "name": "stdout",
     "output_type": "stream",
     "text": [
      "0.048061793700746355\n"
     ]
    }
   ],
   "source": [
    "# Используем формулу Бернулли\n",
    "n = 100\n",
    "k = 85\n",
    "p = 0.8\n",
    "P_k = combinations(n, k)*pow(p,k)*pow(1-p, n-k)\n",
    "print(P_k)"
   ]
  },
  {
   "cell_type": "markdown",
   "metadata": {},
   "source": [
    "#### 2. Вероятность того, что лампочка перегорит в течение первого дня эксплуатации, равна 0.0004. В жилом комплексе после ремонта в один день включили 5000 новых лампочек. Какова вероятность, что ни одна из них не перегорит в первый день? Какова вероятность, что перегорят ровно две?"
   ]
  },
  {
   "cell_type": "code",
   "execution_count": 4,
   "metadata": {},
   "outputs": [
    {
     "name": "stdout",
     "output_type": "stream",
     "text": [
      "Мат ожидание (lambda) = 2.0\n",
      "P = 0.1353352832366127\n"
     ]
    }
   ],
   "source": [
    "# Используем распределение Пуассона\n",
    "# не перегорит ни  одна\n",
    "m = 0\n",
    "n = 5000\n",
    "p = 0.0004\n",
    "lambda_ = p*n\n",
    "print(f'Мат ожидание (lambda) = {lambda_}')\n",
    "P_m = (pow(lambda_, m)/factorial(m))*np.exp(-lambda_)\n",
    "print(f'P = {P_m}')"
   ]
  },
  {
   "cell_type": "code",
   "execution_count": 5,
   "metadata": {},
   "outputs": [
    {
     "name": "stdout",
     "output_type": "stream",
     "text": [
      "lambda_ = 2.0\n",
      "P = 0.2706705664732254\n"
     ]
    }
   ],
   "source": [
    "# перегорят ровно две\n",
    "m = 2\n",
    "n = 5000\n",
    "p = 0.0004\n",
    "lambda_ = p*n\n",
    "print(f'lambda_ = {lambda_}')\n",
    "P_m = (pow(lambda_, m)/factorial(m))*np.exp(-lambda_)\n",
    "print(f'P = {P_m}')"
   ]
  },
  {
   "cell_type": "markdown",
   "metadata": {},
   "source": [
    "#### 3. Монету подбросили 144 раза. Какова вероятность, что орел выпадет ровно 70 раз?"
   ]
  },
  {
   "cell_type": "code",
   "execution_count": 6,
   "metadata": {},
   "outputs": [
    {
     "name": "stdout",
     "output_type": "stream",
     "text": [
      "0.06281178035144776\n"
     ]
    }
   ],
   "source": [
    "# Используем формулу Бернулли\n",
    "n = 144\n",
    "k = 70\n",
    "p = 0.5\n",
    "P_k = combinations(n, k)*pow(p,k)*pow(1-p, n-k)\n",
    "print(P_k)"
   ]
  },
  {
   "cell_type": "code",
   "execution_count": 7,
   "metadata": {
    "scrolled": true
   },
   "outputs": [
    {
     "data": {
      "image/png": "[encoded data removed]",
      "text/plain": [
       "<Figure size 432x288 with 1 Axes>"
      ]
     },
     "metadata": {
      "needs_background": "light"
     },
     "output_type": "display_data"
    }
   ],
   "source": [
    "p_list = []\n",
    "for k in range(62, 85):\n",
    "    P_k = combinations(n, k)*pow(p,k)*pow(1-p, n-k)\n",
    "    p_list.append(P_k)\n",
    "\n",
    "plt.plot(range(62, 85), p_list)\n",
    "plt.show()"
   ]
  },
  {
   "cell_type": "markdown",
   "metadata": {},
   "source": [
    "#### 4. В первом ящике находится 10 мячей, из которых 7 - белые. Во втором ящике - 11 мячей, из которых 9 белых. Из каждого ящика вытаскивают случайным образом по два мяча. Какова вероятность того, что все мячи белые? Какова вероятность того, что ровно два мяча белые? Какова вероятность того, что хотя бы один мяч белый?"
   ]
  },
  {
   "cell_type": "code",
   "execution_count": 8,
   "metadata": {},
   "outputs": [
    {
     "name": "stdout",
     "output_type": "stream",
     "text": [
      "Первый способ: 0.3054545454545454\n",
      "Второй способ: 0.3054545454545455\n"
     ]
    }
   ],
   "source": [
    "# все мячи белые\n",
    "P = (7/10) * (6/9) * (9/11) * (8/10)\n",
    "print(f'Первый способ: {P}')\n",
    "\n",
    "P = combinations(7,2)/combinations(10,2) * combinations(9,2)/combinations(11,2)\n",
    "print(f'Второй способ: {P}')"
   ]
  },
  {
   "cell_type": "code",
   "execution_count": 19,
   "metadata": {},
   "outputs": [
    {
     "name": "stdout",
     "output_type": "stream",
     "text": [
      "Первый способ: 0.20484848484848486\n",
      "Второй способ: 0.20484848484848484\n"
     ]
    }
   ],
   "source": [
    "# два мяча белые\n",
    "# Возможны 3 ситуации:  \n",
    "# либо 1 - из первого ящика вытаскиваем 2 белых из второго 0\n",
    "# либо 2 - из второго ящика вытаскиваем 2 белых из первого 0\n",
    "# либо 3 - из двух ящиков по одному белому\n",
    "# 1 способ\n",
    "P = combinations(7,2)/combinations(10,2) * combinations(2,2)/combinations(11,2) \\\n",
    "    + combinations(9,2)/combinations(11,2) * combinations(3,2)/combinations(10,2) \\\n",
    "    + combinations(7,1)*combinations(3,1)/combinations(10,2)  \\\n",
    "        * combinations(9,1)*combinations(2,1)/combinations(11,2) \n",
    "print(f'Первый способ: {P}')\n",
    "\n",
    "P = 7/10 * 6/9 * 2/11 * 1/10  +  9/11 * 8/10 * 3/10 * 2/9  +  (7/10*3/9 + 3/10*7/9)*(9/11*2/10 + 2/11*9/10)\n",
    "print(f'Второй способ: {P}')"
   ]
  },
  {
   "cell_type": "code",
   "execution_count": 10,
   "metadata": {},
   "outputs": [
    {
     "data": {
      "text/plain": [
       "0.9987878787878788"
      ]
     },
     "execution_count": 10,
     "metadata": {},
     "output_type": "execute_result"
    }
   ],
   "source": [
    "# хотя бы один белый\n",
    "P = 1 - (3/10) * (2/9) * (2/11) * (1/10)\n",
    "P"
   ]
  }
 ],
 "metadata": {
  "kernelspec": {
   "display_name": "Python 3",
   "language": "python",
   "name": "python3"
  },
  "language_info": {
   "codemirror_mode": {
    "name": "ipython",
    "version": 3
   },
   "file_extension": ".py",
   "mimetype": "text/x-python",
   "name": "python",
   "nbconvert_exporter": "python",
   "pygments_lexer": "ipython3",
   "version": "3.7.6"
  }
 },
 "nbformat": 4,
 "nbformat_minor": 4
}
