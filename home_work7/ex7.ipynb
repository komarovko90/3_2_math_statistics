{
 "cells": [
  {
   "cell_type": "markdown",
   "metadata": {},
   "source": [
    "# ДЗ"
   ]
  },
  {
   "cell_type": "code",
   "execution_count": 1,
   "metadata": {},
   "outputs": [],
   "source": [
    "import numpy as np\n",
    "\n",
    "import matplotlib.pyplot as plt\n",
    "%matplotlib inline"
   ]
  },
  {
   "cell_type": "code",
   "execution_count": 2,
   "metadata": {},
   "outputs": [],
   "source": [
    "def calc_mse(y, y_pred):\n",
    "    err = np.mean((y - y_pred)**2) # <=> 1/n * np.sum((y_pred - y)**2)\n",
    "    return err"
   ]
  },
  {
   "cell_type": "markdown",
   "metadata": {},
   "source": [
    "#### 1. \n",
    "Даны значения величины заработной платы заемщиков банка (zp) и значения их поведенческого кредитного скоринга (ks): \\\n",
    "zp = [35, 45, 190, 200, 40, 70, 54, 150, 120, 110] \\\n",
    "ks = [401, 574, 874, 919, 459, 739, 653, 902, 746, 832].\\\n",
    "Используя математические операции, посчитать коэффициенты линейной регрессии, приняв за X заработную плату (то есть, zp - признак), а за y - значения скорингового балла (то есть, ks - целевая переменная). Произвести расчет как с использованием intercept, так и без."
   ]
  },
  {
   "cell_type": "code",
   "execution_count": 3,
   "metadata": {},
   "outputs": [],
   "source": [
    "x = np.array((35, 45, 190, 200, 40, 70, 54, 150, 120, 110))\n",
    "y = np.array((401, 574, 874, 919, 459, 739, 653, 902, 746, 832))"
   ]
  },
  {
   "cell_type": "code",
   "execution_count": 4,
   "metadata": {},
   "outputs": [
    {
     "data": {
      "text/plain": [
       "2.6205388824027653"
      ]
     },
     "execution_count": 4,
     "metadata": {},
     "output_type": "execute_result"
    }
   ],
   "source": [
    "# c использованием intercept\n",
    "n = len(x)\n",
    "b = (n*np.sum(x*y) - np.sum(x)*np.sum(y)) / (n*np.sum(x**2)-np.sum(x)**2)\n",
    "b"
   ]
  },
  {
   "cell_type": "code",
   "execution_count": 5,
   "metadata": {},
   "outputs": [
    {
     "data": {
      "text/plain": [
       "444.17735732435955"
      ]
     },
     "execution_count": 5,
     "metadata": {},
     "output_type": "execute_result"
    }
   ],
   "source": [
    "a = np.mean(y) - b*np.mean(x)\n",
    "a"
   ]
  },
  {
   "cell_type": "code",
   "execution_count": 6,
   "metadata": {
    "scrolled": true
   },
   "outputs": [
    {
     "data": {
      "text/plain": [
       "array([535.89621821, 562.10160703, 942.07974498, 968.2851338 ,\n",
       "       548.99891262, 627.61507909, 585.68645697, 837.25818968,\n",
       "       758.64202321, 732.43663439])"
      ]
     },
     "execution_count": 6,
     "metadata": {},
     "output_type": "execute_result"
    }
   ],
   "source": [
    "y_hat = a + b*x\n",
    "y_hat"
   ]
  },
  {
   "cell_type": "code",
   "execution_count": 7,
   "metadata": {},
   "outputs": [
    {
     "data": {
      "text/plain": [
       "6470.414201176658"
      ]
     },
     "execution_count": 7,
     "metadata": {},
     "output_type": "execute_result"
    }
   ],
   "source": [
    "calc_mse(y, y_hat)"
   ]
  },
  {
   "cell_type": "code",
   "execution_count": 8,
   "metadata": {},
   "outputs": [
    {
     "data": {
      "image/png": "[encoded data removed]",
      "text/plain": [
       "<Figure size 432x288 with 1 Axes>"
      ]
     },
     "metadata": {
      "needs_background": "light"
     },
     "output_type": "display_data"
    }
   ],
   "source": [
    "plt.scatter(x, y)\n",
    "plt.plot(x, y_hat, label='predict', color='r')\n",
    "plt.legend()\n",
    "plt.show()"
   ]
  },
  {
   "cell_type": "code",
   "execution_count": 9,
   "metadata": {},
   "outputs": [
    {
     "data": {
      "text/plain": [
       "array([[5.88982042]])"
      ]
     },
     "execution_count": 9,
     "metadata": {},
     "output_type": "execute_result"
    }
   ],
   "source": [
    "# без использования intercept \n",
    "# матричный метод\n",
    "X=x.reshape((n,1))\n",
    "y_=y.reshape((n,1))\n",
    "B = np.dot(np.linalg.inv(np.dot(X.T, X)), X.T @ y_)\n",
    "B"
   ]
  },
  {
   "cell_type": "code",
   "execution_count": 10,
   "metadata": {},
   "outputs": [
    {
     "data": {
      "text/plain": [
       "array([[ 206.1437147 ],\n",
       "       [ 265.04191891],\n",
       "       [1119.06587983],\n",
       "       [1177.96408403],\n",
       "       [ 235.59281681],\n",
       "       [ 412.28742941],\n",
       "       [ 318.05030269],\n",
       "       [ 883.47306302],\n",
       "       [ 706.77845042],\n",
       "       [ 647.88024621]])"
      ]
     },
     "execution_count": 10,
     "metadata": {},
     "output_type": "execute_result"
    }
   ],
   "source": [
    "y_hat_=X*B\n",
    "y_hat_"
   ]
  },
  {
   "cell_type": "code",
   "execution_count": 11,
   "metadata": {},
   "outputs": [
    {
     "data": {
      "text/plain": [
       "164392.9244883353"
      ]
     },
     "execution_count": 11,
     "metadata": {},
     "output_type": "execute_result"
    }
   ],
   "source": [
    "calc_mse(y, y_hat_)"
   ]
  },
  {
   "cell_type": "code",
   "execution_count": 12,
   "metadata": {},
   "outputs": [
    {
     "data": {
      "image/png": "[encoded data removed]",
      "text/plain": [
       "<Figure size 432x288 with 1 Axes>"
      ]
     },
     "metadata": {
      "needs_background": "light"
     },
     "output_type": "display_data"
    }
   ],
   "source": [
    "plt.scatter(x, y)\n",
    "plt.plot(x, y_hat_, label='predict', color='r')\n",
    "plt.legend()\n",
    "plt.show()"
   ]
  },
  {
   "cell_type": "markdown",
   "metadata": {},
   "source": [
    "#### 2. \n",
    "Посчитать коэффициент линейной регрессии при заработной плате (zp), используя градиентный спуск (без intercept)."
   ]
  },
  {
   "cell_type": "code",
   "execution_count": 13,
   "metadata": {},
   "outputs": [
    {
     "data": {
      "text/plain": [
       "array([[ 35,  45, 190, 200,  40,  70,  54, 150, 120, 110]])"
      ]
     },
     "execution_count": 13,
     "metadata": {},
     "output_type": "execute_result"
    }
   ],
   "source": [
    "X=x.reshape((1,n))\n",
    "X"
   ]
  },
  {
   "cell_type": "code",
   "execution_count": 14,
   "metadata": {},
   "outputs": [
    {
     "name": "stdout",
     "output_type": "stream",
     "text": [
      "Number of objects = 10        \n",
      "Learning rate = 1e-06        \n",
      "Initial weights = [0.5] \n",
      "\n",
      "Iteration #0: W_new = [0.6485068], MSE = 456729.35\n",
      "Iteration #10: W_new = [1.82285132], MSE = 296244.24376\n",
      "Iteration #20: W_new = [2.73407764], MSE = 200854.33202\n",
      "Iteration #30: W_new = [3.44113879], MSE = 143421.01523\n",
      "Iteration #40: W_new = [3.98977909], MSE = 108840.9866\n",
      "Iteration #50: W_new = [4.41549357], MSE = 88020.69541\n",
      "Iteration #60: W_new = [4.74582444], MSE = 75485.00523\n",
      "Iteration #70: W_new = [5.00214289], MSE = 67937.39089\n",
      "Iteration #80: W_new = [5.20103182], MSE = 63393.0474\n",
      "Iteration #90: W_new = [5.35535861], MSE = 60656.94339\n",
      "Iteration #100: W_new = [5.47510766], MSE = 59009.56239\n",
      "Iteration #110: W_new = [5.56802628], MSE = 58017.69068\n",
      "Iteration #120: W_new = [5.64012599], MSE = 57420.49459\n",
      "Iteration #130: W_new = [5.69607137], MSE = 57060.92876\n",
      "Iteration #140: W_new = [5.73948189], MSE = 56844.43776\n",
      "Iteration #150: W_new = [5.77316605], MSE = 56714.09068\n",
      "Iteration #160: W_new = [5.79930309], MSE = 56635.61\n",
      "Iteration #170: W_new = [5.81958398], MSE = 56588.35756\n",
      "Iteration #180: W_new = [5.83532083], MSE = 56559.90734\n",
      "Iteration #190: W_new = [5.84753176], MSE = 56542.77775\n",
      "Iteration #200: W_new = [5.85700676], MSE = 56532.46419\n",
      "Iteration #210: W_new = [5.86375786], MSE = 56526.65746\n",
      "Iteration #220: W_new = [5.86911999], MSE = 56523.04012\n",
      "Iteration #230: W_new = [5.8733789], MSE = 56520.75813\n",
      "Iteration #240: W_new = [5.87676159], MSE = 56519.31855\n",
      "Iteration #250: W_new = [5.87944832], MSE = 56518.41038\n",
      "Iteration #260: W_new = [5.88158228], MSE = 56517.83747\n",
      "Iteration #270: W_new = [5.8832772], MSE = 56517.47605\n",
      "Iteration #280: W_new = [5.88462341], MSE = 56517.24805\n",
      "Iteration #290: W_new = [5.88569264], MSE = 56517.10422\n",
      "Iteration #300: W_new = [5.88654189], MSE = 56517.01348\n",
      "Iteration #310: W_new = [5.88721642], MSE = 56516.95624\n",
      "Iteration #320: W_new = [5.88775217], MSE = 56516.92013\n",
      "Iteration #330: W_new = [5.88817769], MSE = 56516.89735\n",
      "Iteration #340: W_new = [5.88851567], MSE = 56516.88297\n",
      "Iteration #350: W_new = [5.88878411], MSE = 56516.87391\n",
      "Iteration #360: W_new = [5.88899732], MSE = 56516.86819\n",
      "Iteration #370: W_new = [5.88916666], MSE = 56516.86458\n",
      "Iteration #380: W_new = [5.88930117], MSE = 56516.86231\n",
      "Iteration #390: W_new = [5.889408], MSE = 56516.86087\n",
      "Iteration #400: W_new = [5.88949285], MSE = 56516.85996\n",
      "Iteration #410: W_new = [5.88955468], MSE = 56516.85943\n",
      "Iteration #420: W_new = [5.88960484], MSE = 56516.85908\n",
      "Iteration #430: W_new = [5.88964553], MSE = 56516.85886\n",
      "Iteration #440: W_new = [5.88967854], MSE = 56516.8587\n",
      "End of computation. Iteration #445.\n"
     ]
    }
   ],
   "source": [
    "n = X.shape[1]\n",
    "alpha = 1e-6\n",
    "W = np.array([0.5])\n",
    "print(f'Number of objects = {n} \\\n",
    "       \\nLearning rate = {alpha} \\\n",
    "       \\nInitial weights = {W} \\n')\n",
    "\n",
    "for i in range(1000):\n",
    "    y_pred = np.dot(W, X)\n",
    "    err = calc_mse(y, y_pred)\n",
    "    #W_prev = W.copy()\n",
    "    for k in range(W.shape[0]):\n",
    "        W[k] -= alpha * (1/n * 2 * np.sum(X[k] * (y_pred - y)))\n",
    "    #weight_dist = np.linalg.norm(W - W_prev, ord=2)\n",
    "    err_new =  calc_mse(y, np.dot(W, X))\n",
    "        \n",
    "    if i % 10 == 0:\n",
    "        #alpha /= 1.1\n",
    "        print(f'Iteration #{i}: W_new = {W}, MSE = {round(err,5)}')\n",
    "    # Уменьшаем шаг каждые 150 итераций\n",
    "    if i % 200 == 0:\n",
    "        alpha /= 1.1\n",
    "    # Выход из алгоритма при достижении определенного прироста ошибки\n",
    "    if err - err_new < 1e-5:\n",
    "        print(f'End of computation. Iteration #{i}.')\n",
    "        break"
   ]
  },
  {
   "cell_type": "code",
   "execution_count": 15,
   "metadata": {},
   "outputs": [
    {
     "data": {
      "image/png": "[encoded data removed]",
      "text/plain": [
       "<Figure size 432x288 with 1 Axes>"
      ]
     },
     "metadata": {
      "needs_background": "light"
     },
     "output_type": "display_data"
    }
   ],
   "source": [
    "plt.scatter(x, y)\n",
    "plt.plot(x, W*x, label='predict', color='r')\n",
    "plt.legend()\n",
    "plt.show()"
   ]
  },
  {
   "cell_type": "markdown",
   "metadata": {},
   "source": [
    "#### 3. \n",
    "В каких случаях для вычисления доверительных интервалов и проверки статистических гипотез используется таблица значений функции Лапласа, а в каких - таблица критических точек распределения Стьюдента? "
   ]
  },
  {
   "cell_type": "markdown",
   "metadata": {},
   "source": [
    "Таблица значений функции Лапласа используется при нормальном распределении и известном СКО генеральной осовкупности (критерий Z), а таблица критических точек распределения Стьюдента используется при нормальном распределении и наличии выборки, по которой можем рассчитать СКО данной выборки (критерий t)."
   ]
  }
 ],
 "metadata": {
  "kernelspec": {
   "display_name": "Python 3",
   "language": "python",
   "name": "python3"
  },
  "language_info": {
   "codemirror_mode": {
    "name": "ipython",
    "version": 3
   },
   "file_extension": ".py",
   "mimetype": "text/x-python",
   "name": "python",
   "nbconvert_exporter": "python",
   "pygments_lexer": "ipython3",
   "version": "3.7.6"
  }
 },
 "nbformat": 4,
 "nbformat_minor": 4
}
