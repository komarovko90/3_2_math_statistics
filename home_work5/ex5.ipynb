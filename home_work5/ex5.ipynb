{
 "cells": [
  {
   "cell_type": "markdown",
   "metadata": {},
   "source": [
    "# ДЗ"
   ]
  },
  {
   "cell_type": "code",
   "execution_count": 1,
   "metadata": {},
   "outputs": [],
   "source": [
    "import numpy as np\n",
    "from scipy.stats import norm, t"
   ]
  },
  {
   "cell_type": "markdown",
   "metadata": {},
   "source": [
    "#### 1. Известно, что генеральная совокупность распределена нормально со средним квадратическим отклонением, равным 16. Найти доверительный интервал для оценки математического ожидания a с надежностью 0.95, если выборочная средняя M = 80, а объем выборки n = 256."
   ]
  },
  {
   "cell_type": "code",
   "execution_count": 2,
   "metadata": {},
   "outputs": [
    {
     "name": "stdout",
     "output_type": "stream",
     "text": [
      "Доверительный интервал [78.04003601545995, 81.95996398454005]\n"
     ]
    }
   ],
   "source": [
    "sigma = 16\n",
    "M = 80\n",
    "n = 256\n",
    "a = 5/100\n",
    "interval = []\n",
    "interval.append(M + norm.ppf(a/2)*sigma/np.sqrt(n))\n",
    "interval.append(M - norm.ppf(a/2)*sigma/np.sqrt(n))\n",
    "print(f'Доверительный интервал {interval}')"
   ]
  },
  {
   "cell_type": "markdown",
   "metadata": {},
   "source": [
    "#### 2. В результате 10 независимых измерений некоторой величины X, выполненных с одинаковой точностью, получены опытные данные: 6.9, 6.1, 6.2, 6.8, 7.5, 6.3, 6.4, 6.9, 6.7, 6.1 Предполагая, что результаты измерений подчинены нормальному закону распределения вероятностей, оценить истинное значение величины X при помощи доверительного интервала, покрывающего это значение с доверительной вероятностью 0,95."
   ]
  },
  {
   "cell_type": "code",
   "execution_count": 3,
   "metadata": {},
   "outputs": [
    {
     "data": {
      "text/plain": [
       "array([6.9, 6.1, 6.2, 6.8, 7.5, 6.3, 6.4, 6.9, 6.7, 6.1])"
      ]
     },
     "execution_count": 3,
     "metadata": {},
     "output_type": "execute_result"
    }
   ],
   "source": [
    "X = np.array((6.9, 6.1, 6.2, 6.8, 7.5, 6.3, 6.4, 6.9, 6.7, 6.1))\n",
    "X"
   ]
  },
  {
   "cell_type": "code",
   "execution_count": 4,
   "metadata": {
    "scrolled": true
   },
   "outputs": [
    {
     "name": "stdout",
     "output_type": "stream",
     "text": [
      "Оценка МО по данной выборке: 6.590000000000001\n",
      "Несмещенная оценка СКО sigma: 0.4508\n",
      "Доверительный интервал [6.267515851415713, 6.912484148584288]\n"
     ]
    }
   ],
   "source": [
    "\n",
    "mean = np.sum(X)/len(X)\n",
    "print(f'Оценка МО по данной выборке: {mean}')\n",
    "# несмещенная sigma\n",
    "sigma = np.sqrt(np.sum((X - mean)**2)/(len(X)-1))\n",
    "print(f'Несмещенная оценка СКО sigma: {sigma:.4f}')\n",
    "\n",
    "a = 0.05\n",
    "n = len(X)\n",
    "interval = []\n",
    "interval.append(mean + t.ppf(a/2,n-1)*sigma/np.sqrt(n))\n",
    "interval.append(mean - t.ppf(a/2,n-1)*sigma/np.sqrt(n))\n",
    "print(f'Доверительный интервал {interval}')"
   ]
  },
  {
   "cell_type": "markdown",
   "metadata": {},
   "source": [
    "#### 3,4 задачи решать через тестирование гипотезы"
   ]
  },
  {
   "cell_type": "markdown",
   "metadata": {},
   "source": [
    "#### 3. Утверждается, что шарики для подшипников, изготовленные автоматическим станком, имеют средний диаметр 17 мм. Используя односторонний критерий с ?=0,05, проверить эту гипотезу, если в выборке из n=100 шариков средний диаметр оказался равным 17.5 мм, а дисперсия известна и равна 4 кв.мм."
   ]
  },
  {
   "cell_type": "code",
   "execution_count": 5,
   "metadata": {},
   "outputs": [
    {
     "name": "stdout",
     "output_type": "stream",
     "text": [
      "Z = 1.6449\n",
      "Z_n = 2.5000\n",
      "Так Z_n > Z, H0 не верна. Принимаем Н1.\n"
     ]
    }
   ],
   "source": [
    "a = 0.05\n",
    "n = 100\n",
    "D = 4\n",
    "sigma = np.sqrt(D)\n",
    "M0 = 17\n",
    "M1 = 17.5\n",
    "Z_n = (M1-M0)/(sigma/np.sqrt(n))\n",
    "Z = norm.ppf(0.95)\n",
    "print(f'Z = {norm.ppf(0.95):.4f}')\n",
    "print(f'Z_n = {Z_n:.4f}')\n",
    "print(f'Так Z_n > Z, H0 не верна. Принимаем Н1.')"
   ]
  },
  {
   "cell_type": "markdown",
   "metadata": {},
   "source": [
    "#### 4. Продавец утверждает, что средний вес пачки печенья составляет 200 г. Из партии извлечена выборка из 10 пачек. Вес каждой пачки составляет: 202, 203, 199, 197, 195, 201, 200, 204, 194, 190. Известно, что их веса распределены нормально. Верно ли утверждение продавца, если учитывать, что доверительная вероятность равна 99%?"
   ]
  },
  {
   "cell_type": "code",
   "execution_count": 6,
   "metadata": {},
   "outputs": [
    {
     "data": {
      "text/plain": [
       "array([202, 203, 199, 197, 195, 201, 200, 204, 194, 190])"
      ]
     },
     "execution_count": 6,
     "metadata": {},
     "output_type": "execute_result"
    }
   ],
   "source": [
    "X = np.array((202, 203, 199, 197, 195, 201, 200, 204, 194, 190))\n",
    "X"
   ]
  },
  {
   "cell_type": "code",
   "execution_count": 16,
   "metadata": {},
   "outputs": [
    {
     "name": "stdout",
     "output_type": "stream",
     "text": [
      "mu0 (для гипотезы НО): 200\n",
      "Оценка мат ожидания по данной выборке mu1 (для гипотезы Н1): 198.5\n",
      "Гипотеза Н1 определяется: mu != mu0\n",
      "Несмещенная оценка СКО sigma: 4.4535\n",
      "С учетом доверительного интервала (а/2) mu0 лежит в диапазоне от -3.2498  до 3.2498\n",
      "t_n = -1.0651\n",
      "Так t_n лежит в диапазоне, то H0 верна. \n",
      "\n"
     ]
    }
   ],
   "source": [
    "M0 = 200\n",
    "print(f'mu0 (для гипотезы НО): {M0}')\n",
    "M1 = np.sum(X)/len(X)\n",
    "print(f'Оценка мат ожидания по данной выборке mu1 (для гипотезы Н1): {M1}')\n",
    "print(f'Гипотеза Н1 определяется: mu != mu0')\n",
    "# несмещенная sigma\n",
    "sigma = np.sqrt(np.sum((X - M1)**2)/(len(X)-1))\n",
    "print(f'Несмещенная оценка СКО sigma: {sigma:.4f}')\n",
    "\n",
    "n = len(X)\n",
    "a = 0.01\n",
    "t_1 = t.ppf(a/2, n-1)\n",
    "t_2 = t.ppf(1-a/2, n-1)\n",
    "print(f'С учетом доверительного интервала (а/2) mu0 лежит в диапазоне от {t_1:.4f}  до {t_2:.4f}')\n",
    "t_n = (M1-M0)/(sigma/np.sqrt(n))\n",
    "print(f't_n = {t_n:.4f}')\n",
    "print(f'Так t_n лежит в диапазоне, то H0 верна. \\n')"
   ]
  }
 ],
 "metadata": {
  "kernelspec": {
   "display_name": "Python 3",
   "language": "python",
   "name": "python3"
  },
  "language_info": {
   "codemirror_mode": {
    "name": "ipython",
    "version": 3
   },
   "file_extension": ".py",
   "mimetype": "text/x-python",
   "name": "python",
   "nbconvert_exporter": "python",
   "pygments_lexer": "ipython3",
   "version": "3.7.6"
  }
 },
 "nbformat": 4,
 "nbformat_minor": 4
}
