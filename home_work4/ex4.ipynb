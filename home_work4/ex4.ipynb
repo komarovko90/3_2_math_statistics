{
 "cells": [
  {
   "cell_type": "markdown",
   "metadata": {},
   "source": [
    "# ДЗ"
   ]
  },
  {
   "cell_type": "code",
   "execution_count": 1,
   "metadata": {},
   "outputs": [],
   "source": [
    "import numpy as np\n",
    "from scipy.stats import norm"
   ]
  },
  {
   "cell_type": "markdown",
   "metadata": {},
   "source": [
    "#### 1. \n",
    "Случайная непрерывная величина A имеет равномерное распределение на промежутке (200, 800]. Найдите ее среднее значение и дисперсию."
   ]
  },
  {
   "cell_type": "code",
   "execution_count": 2,
   "metadata": {},
   "outputs": [
    {
     "data": {
      "text/plain": [
       "500.0"
      ]
     },
     "execution_count": 2,
     "metadata": {},
     "output_type": "execute_result"
    }
   ],
   "source": [
    "M = (200 + 800) / 2\n",
    "M"
   ]
  },
  {
   "cell_type": "code",
   "execution_count": 3,
   "metadata": {},
   "outputs": [
    {
     "data": {
      "text/plain": [
       "30000.0"
      ]
     },
     "execution_count": 3,
     "metadata": {},
     "output_type": "execute_result"
    }
   ],
   "source": [
    "D = (800-200)**2/12\n",
    "D"
   ]
  },
  {
   "cell_type": "markdown",
   "metadata": {},
   "source": [
    "#### 2. \n",
    "О случайной непрерывной равномерно распределенной величине B известно, что ее дисперсия равна 0.2.\n",
    "Можно ли найти правую границу величины B и ее среднее значение зная, что левая граница равна 0.5?\n",
    "Если да, найдите ее."
   ]
  },
  {
   "cell_type": "code",
   "execution_count": 4,
   "metadata": {},
   "outputs": [
    {
     "data": {
      "text/plain": [
       "2.049193338482967"
      ]
     },
     "execution_count": 4,
     "metadata": {},
     "output_type": "execute_result"
    }
   ],
   "source": [
    "a = 0.5\n",
    "D = 0.2\n",
    "b = np.sqrt(12 * D) + a \n",
    "b"
   ]
  },
  {
   "cell_type": "code",
   "execution_count": 5,
   "metadata": {},
   "outputs": [
    {
     "data": {
      "text/plain": [
       "1.2745966692414834"
      ]
     },
     "execution_count": 5,
     "metadata": {},
     "output_type": "execute_result"
    }
   ],
   "source": [
    "M = (a+b)/2\n",
    "M"
   ]
  },
  {
   "cell_type": "markdown",
   "metadata": {},
   "source": [
    "#### 3. \n",
    "Непрерывная случайная величина X распределена нормально и задана плотностью распределения \\\n",
    "f(x) = (1 / (4 * sqrt(2*pi))) * (exp(-(x+2)**2 / 32)). \\\n",
    "Найдите: \\\n",
    "а). M(X) \\\n",
    "б). D(X) \\\n",
    "в). std(X) (среднее квадратичное отклонение)"
   ]
  },
  {
   "cell_type": "code",
   "execution_count": 6,
   "metadata": {},
   "outputs": [],
   "source": [
    "# Преобразуем функцию f(x) к виду\n",
    "# f(x) = (1 / (4 * sqrt(2*pi))) * (exp(-(x+2)**2 / (2*16))).\n",
    "# Таким образом, \n",
    "# M = -2\n",
    "# D = 16\n",
    "# СКО = 4"
   ]
  },
  {
   "cell_type": "markdown",
   "metadata": {},
   "source": [
    "#### 4. \n",
    "Рост взрослого населения города X имеет нормальное распределение. \\\n",
    "Причем, средний рост равен 174 см, а среднее квадратичное отклонение равно 8 см.\n",
    "Какова вероятность того, что случайным образом выбранный взрослый человек имеет рост: \\\n",
    "а). больше 182 см \\\n",
    "б). больше 190 см \\\n",
    "в). от 166 см до 190 см \\\n",
    "г). от 166 см до 182 см \\\n",
    "д). от 158 см до 190 см \\\n",
    "е). не выше 150 см или не ниже 190 см \\\n",
    "ё). не выше 150 см или не ниже 198 см \\\n",
    "ж). ниже 166 см."
   ]
  },
  {
   "cell_type": "code",
   "execution_count": 7,
   "metadata": {},
   "outputs": [
    {
     "name": "stdout",
     "output_type": "stream",
     "text": [
      "a Вероятность, что больше 182 см: 15.866% (0.15865525393145707)\n",
      "б Вероятность, что больше 190 cм: 2.275% (0.02275013194817921)\n",
      "в Вероятность, что от 166 см до 190 см: 81.859% (0.8185946141203637)\n",
      "г Вероятность, что от 166 см до 182 см: 68.269% (0.6826894921370859)\n",
      "д Вероятность, что от 158 см до 190 см: 95.450% (0.9544997361036416)\n",
      "е Вероятность, что не выше 150 см или не ниже 190 см: 2.410% (0.0241000299798093)\n",
      "ё Вероятность, что не выше 150 см или не ниже 198 см: 0.270% (0.0026997960632601965)\n",
      "ж Вероятность, что ниже 166 см: 15.866% (0.15865525393145707)\n"
     ]
    }
   ],
   "source": [
    "M = 174\n",
    "sko = 8 \n",
    "# расчеты будем производить по таблице накопленного нормального распределения norm.cdf\n",
    "# (x-M)/sko - приводим к стандартному нормальному распределению\n",
    "x = 182\n",
    "P = (1-norm.cdf((x-M)/sko))\n",
    "print(f'a Вероятность, что больше 182 см: {P*100:.3f}% ({P})')\n",
    "\n",
    "x = 190\n",
    "P = (1-norm.cdf((x-M)/sko))\n",
    "print(f'б Вероятность, что больше 190 cм: {P*100:.3f}% ({P})')\n",
    "\n",
    "x1 = 166\n",
    "P1 = norm.cdf((x1-M)/sko)\n",
    "x2 = 190\n",
    "P2 = norm.cdf((x2-M)/sko)\n",
    "print(f'в Вероятность, что от 166 см до 190 см: {(P2-P1)*100:.3f}% ({P2-P1})')\n",
    "\n",
    "x1 = 166\n",
    "P1 = norm.cdf((x1-M)/sko)\n",
    "x2 = 182\n",
    "P2 = norm.cdf((x2-M)/sko)\n",
    "print(f'г Вероятность, что от 166 см до 182 см: {(P2-P1)*100:.3f}% ({P2-P1})')\n",
    "\n",
    "x1 = 158\n",
    "P1 = norm.cdf((x1-M)/sko)\n",
    "x2 = 190\n",
    "P2 = norm.cdf((x2-M)/sko)\n",
    "print(f'д Вероятность, что от 158 см до 190 см: {(P2-P1)*100:.3f}% ({P2-P1})')\n",
    "\n",
    "x1 = 150\n",
    "P1 = norm.cdf((x1-M)/sko)\n",
    "x2 = 190\n",
    "P2 = 1-norm.cdf((x2-M)/sko)\n",
    "print(f'е Вероятность, что не выше 150 см или не ниже 190 см: {(P2+P1)*100:.3f}% ({P2+P1})')\n",
    "\n",
    "x1 = 150\n",
    "P1 = norm.cdf((x1-M)/sko)\n",
    "x2 = 198\n",
    "P2 = 1-norm.cdf((x2-M)/sko)\n",
    "print(f'ё Вероятность, что не выше 150 см или не ниже 198 см: {(P2+P1)*100:.3f}% ({P2+P1})')\n",
    "\n",
    "x = 166\n",
    "P = norm.cdf((x-M)/sko)\n",
    "print(f'ж Вероятность, что ниже 166 см: {P*100:.3f}% ({P})')"
   ]
  },
  {
   "cell_type": "markdown",
   "metadata": {},
   "source": [
    "#### 5. \n",
    "На сколько сигм (средних квадратичных отклонений) отклоняется рост человека, равный 190 см, от\n",
    "математического ожидания роста в популяции, в которой M(X) = 178 см и D(X) = 25 кв.см?"
   ]
  },
  {
   "cell_type": "code",
   "execution_count": 8,
   "metadata": {},
   "outputs": [
    {
     "name": "stdout",
     "output_type": "stream",
     "text": [
      "На 2.4 сигм отклонется рост человека от М\n"
     ]
    }
   ],
   "source": [
    "x = 190\n",
    "M = 178\n",
    "D = 25\n",
    "sigma = np.sqrt(D)\n",
    "print(f'На {(x - M)/sigma} сигм отклонется рост человека от М')"
   ]
  }
 ],
 "metadata": {
  "kernelspec": {
   "display_name": "Python 3",
   "language": "python",
   "name": "python3"
  },
  "language_info": {
   "codemirror_mode": {
    "name": "ipython",
    "version": 3
   },
   "file_extension": ".py",
   "mimetype": "text/x-python",
   "name": "python",
   "nbconvert_exporter": "python",
   "pygments_lexer": "ipython3",
   "version": "3.7.6"
  }
 },
 "nbformat": 4,
 "nbformat_minor": 4
}
