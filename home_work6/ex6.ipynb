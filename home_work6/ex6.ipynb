{
 "cells": [
  {
   "cell_type": "markdown",
   "metadata": {},
   "source": [
    "# ДЗ"
   ]
  },
  {
   "cell_type": "code",
   "execution_count": 1,
   "metadata": {},
   "outputs": [],
   "source": [
    "import numpy as np\n",
    "import pandas as pd\n",
    "from scipy.stats import norm, t"
   ]
  },
  {
   "cell_type": "markdown",
   "metadata": {},
   "source": [
    "#### 1) \n",
    "Даны значения величины заработной платы заемщиков банка (zp) и значения их поведенческого кредитного скоринга (ks): \\\n",
    "zp = [35, 45, 190, 200, 40, 70, 54, 150, 120, 110], \\\n",
    "ks = [401, 574, 874, 919, 459, 739, 653, 902, 746, 832].\\\n",
    "Найдите ковариацию этих двух величин с помощью элементарных действий, а затем с помощью функции cov из numpy\n",
    "Полученные значения должны быть равны.\n",
    "Найдите коэффициент корреляции Пирсона с помощью ковариации и среднеквадратичных отклонений двух признаков,\n",
    "а затем с использованием функций из библиотек numpy и pandas."
   ]
  },
  {
   "cell_type": "code",
   "execution_count": 2,
   "metadata": {},
   "outputs": [],
   "source": [
    "zp = np.array((35, 45, 190, 200, 40, 70, 54, 150, 120, 110))\n",
    "ks = np.array((401, 574, 874, 919, 459, 739, 653, 902, 746, 832))"
   ]
  },
  {
   "cell_type": "code",
   "execution_count": 3,
   "metadata": {},
   "outputs": [
    {
     "data": {
      "text/plain": [
       "9157.839999999997"
      ]
     },
     "execution_count": 3,
     "metadata": {},
     "output_type": "execute_result"
    }
   ],
   "source": [
    "xy = zp*ks\n",
    "M_xy = np.sum(xy)/(len(xy))\n",
    "M_x = np.sum(zp)/(len(zp))\n",
    "M_y = np.sum(ks)/(len(ks))\n",
    "# ковариация, рассчитанная вручную\n",
    "cov = M_xy - M_x*M_y\n",
    "cov"
   ]
  },
  {
   "cell_type": "code",
   "execution_count": 4,
   "metadata": {},
   "outputs": [
    {
     "data": {
      "text/plain": [
       "array([[ 3494.64,  9157.84],\n",
       "       [ 9157.84, 30468.89]])"
      ]
     },
     "execution_count": 4,
     "metadata": {},
     "output_type": "execute_result"
    }
   ],
   "source": [
    "# ковариация рассчитанная методом numpy\n",
    "np.cov(zp, ks, ddof=0)"
   ]
  },
  {
   "cell_type": "code",
   "execution_count": 5,
   "metadata": {},
   "outputs": [
    {
     "data": {
      "text/plain": [
       "59.115480206118605"
      ]
     },
     "execution_count": 5,
     "metadata": {},
     "output_type": "execute_result"
    }
   ],
   "source": [
    "# смещенная sigma\n",
    "sigma_x = np.sqrt(np.sum((zp - M_x)**2)/(len(zp)))\n",
    "sigma_x "
   ]
  },
  {
   "cell_type": "code",
   "execution_count": 6,
   "metadata": {},
   "outputs": [
    {
     "data": {
      "text/plain": [
       "174.55340157098058"
      ]
     },
     "execution_count": 6,
     "metadata": {},
     "output_type": "execute_result"
    }
   ],
   "source": [
    "sigma_y = np.sqrt(np.sum((ks - M_y)**2)/(len(ks)))\n",
    "sigma_y"
   ]
  },
  {
   "cell_type": "code",
   "execution_count": 7,
   "metadata": {},
   "outputs": [
    {
     "data": {
      "text/plain": [
       "0.8874900920739158"
      ]
     },
     "execution_count": 7,
     "metadata": {},
     "output_type": "execute_result"
    }
   ],
   "source": [
    "# корреляция, рассчитанная вручную\n",
    "corr = cov/(sigma_x*sigma_y)\n",
    "corr"
   ]
  },
  {
   "cell_type": "code",
   "execution_count": 8,
   "metadata": {},
   "outputs": [
    {
     "data": {
      "text/plain": [
       "array([[1.        , 0.88749009],\n",
       "       [0.88749009, 1.        ]])"
      ]
     },
     "execution_count": 8,
     "metadata": {},
     "output_type": "execute_result"
    }
   ],
   "source": [
    "# корреляция, рассчитанная методом numpy\n",
    "np.corrcoef(zp,ks)"
   ]
  },
  {
   "cell_type": "markdown",
   "metadata": {},
   "source": [
    "#### 2) \n",
    "Измерены значения IQ выборки студентов,\n",
    "обучающихся в местных технических вузах:\n",
    "131, 125, 115, 122, 131, 115, 107, 99, 125, 111.\n",
    "Известно, что в генеральной совокупности IQ распределен нормально.\n",
    "Найдите доверительный интервал для математического ожидания с надежностью 0.95."
   ]
  },
  {
   "cell_type": "code",
   "execution_count": 9,
   "metadata": {},
   "outputs": [
    {
     "data": {
      "text/plain": [
       "array([131, 125, 115, 122, 131, 115, 107,  99, 125, 111])"
      ]
     },
     "execution_count": 9,
     "metadata": {},
     "output_type": "execute_result"
    }
   ],
   "source": [
    "X = np.array((131, 125, 115, 122, 131, 115, 107, 99, 125, 111))\n",
    "X"
   ]
  },
  {
   "cell_type": "code",
   "execution_count": 27,
   "metadata": {
    "scrolled": false
   },
   "outputs": [
    {
     "name": "stdout",
     "output_type": "stream",
     "text": [
      "Доверительный интервал с надежностью: 95% (alfa=5.0%)\n",
      "Оценка мат ожидания Х: 118.1000\n",
      "Несмещенная оценка СКО: 10.5457\n",
      "Доверительный интервал: [110.55608365158724, 125.64391634841274]\n"
     ]
    }
   ],
   "source": [
    "a = 0.05\n",
    "n = len(X)\n",
    "mu = np.sum(X)/n\n",
    "sigma = np.sqrt(np.sum((X-mu)**2)/(n-1))\n",
    "\n",
    "print(f'Доверительный интервал с надежностью: 95% (alfa={a*100}%)')\n",
    "print(f'Оценка мат ожидания Х: {mu:.4f}')\n",
    "print(f'Несмещенная оценка СКО: {sigma:.4f}')\n",
    "d = []\n",
    "d.append(mu + t.ppf(a/2, n-1)*sigma/np.sqrt(n))\n",
    "d.append(mu - t.ppf(a/2, n-1)*sigma/np.sqrt(n))\n",
    "print(f'Доверительный интервал: {d}')"
   ]
  },
  {
   "cell_type": "markdown",
   "metadata": {},
   "source": [
    "#### 3) \n",
    "Известно, что рост футболистов в сборной распределен нормально\n",
    "с дисперсией генеральной совокупности, равной 25 кв.см. Объем выборки равен 27,\n",
    "среднее выборочное составляет 174.2. Найдите доверительный интервал для математического ожидания с надежностью 0.95."
   ]
  },
  {
   "cell_type": "code",
   "execution_count": 28,
   "metadata": {},
   "outputs": [
    {
     "name": "stdout",
     "output_type": "stream",
     "text": [
      "Доверительный интервал с надежностью: 95% (alfa=5.0%)\n",
      "Оценка мат ожидания Х: 174.2\n",
      "Несмещенная оценка СКО: 5.0\n",
      "Доверительный интервал: [172.3140237765397, 176.08597622346028]\n"
     ]
    }
   ],
   "source": [
    "a = 0.05\n",
    "n = 27\n",
    "D = 25\n",
    "sigma = np.sqrt(D)\n",
    "mu = 174.2\n",
    "print(f'Доверительный интервал с надежностью: 95% (alfa={a*100}%)')\n",
    "print(f'Оценка мат ожидания Х: {mu}')\n",
    "print(f'Несмещенная оценка СКО: {sigma}')\n",
    "d = []\n",
    "d.append(mu + norm.ppf(a/2)*sigma/np.sqrt(n))\n",
    "d.append(mu - norm.ppf(a/2)*sigma/np.sqrt(n))\n",
    "print(f'Доверительный интервал: {d}')"
   ]
  }
 ],
 "metadata": {
  "kernelspec": {
   "display_name": "Python 3",
   "language": "python",
   "name": "python3"
  },
  "language_info": {
   "codemirror_mode": {
    "name": "ipython",
    "version": 3
   },
   "file_extension": ".py",
   "mimetype": "text/x-python",
   "name": "python",
   "nbconvert_exporter": "python",
   "pygments_lexer": "ipython3",
   "version": "3.7.6"
  }
 },
 "nbformat": 4,
 "nbformat_minor": 4
}
